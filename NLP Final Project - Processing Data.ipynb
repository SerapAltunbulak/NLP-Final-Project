{
 "cells": [
  {
   "cell_type": "markdown",
   "metadata": {},
   "source": [
    "# Importing Packages"
   ]
  },
  {
   "cell_type": "code",
   "execution_count": 1,
   "metadata": {},
   "outputs": [],
   "source": [
    "import pandas as pd\n",
    "import numpy as np\n",
    "import scipy as sp\n",
    "import matplotlib.pyplot as plt\n",
    "from sklearn.model_selection import train_test_split\n",
    "from sklearn.feature_extraction.text import CountVectorizer, TfidfVectorizer\n",
    "\n",
    "from textblob import TextBlob, Word\n",
    "from nltk.stem.snowball import SnowballStemmer\n",
    "%matplotlib inline\n",
    "\n",
    "import re\n",
    "import nltk\n",
    "\n",
    "from nltk import word_tokenize, pos_tag\n",
    "from nltk.stem import WordNetLemmatizer\n",
    "from nltk.tokenize import sent_tokenize\n",
    "from nltk.corpus import wordnet\n",
    "\n",
    "import warnings\n",
    "warnings.simplefilter(\"ignore\", UserWarning)\n",
    "warnings.simplefilter(\"ignore\", FutureWarning)\n",
    "warnings.simplefilter(\"ignore\", DeprecationWarning)"
   ]
  },
  {
   "cell_type": "markdown",
   "metadata": {},
   "source": [
    "## Getting Data"
   ]
  },
  {
   "cell_type": "code",
   "execution_count": 2,
   "metadata": {},
   "outputs": [],
   "source": [
    "df = pd.read_csv(\"amazon_1.csv\").drop(\"Unnamed: 0\",axis=1)\n",
    "# df = pd.read_csv(\"amazon_2.csv\").drop(\"Unnamed: 0\",axis=1)\n",
    "# df = pd.read_csv(\"amazon_3.csv\").drop(\"Unnamed: 0\",axis=1)"
   ]
  },
  {
   "cell_type": "code",
   "execution_count": 3,
   "metadata": {},
   "outputs": [
    {
     "name": "stdout",
     "output_type": "stream",
     "text": [
      "<class 'pandas.core.frame.DataFrame'>\n",
      "RangeIndex: 563063 entries, 0 to 563062\n",
      "Data columns (total 9 columns):\n",
      " #   Column          Non-Null Count   Dtype \n",
      "---  ------          --------------   ----- \n",
      " 0   reviewerID      563063 non-null  object\n",
      " 1   asin            563063 non-null  object\n",
      " 2   reviewerName    554713 non-null  object\n",
      " 3   helpful         563063 non-null  object\n",
      " 4   reviewText      562729 non-null  object\n",
      " 5   overall         563063 non-null  int64 \n",
      " 6   summary         563058 non-null  object\n",
      " 7   unixReviewTime  563063 non-null  int64 \n",
      " 8   reviewTime      563063 non-null  object\n",
      "dtypes: int64(2), object(7)\n",
      "memory usage: 38.7+ MB\n"
     ]
    }
   ],
   "source": [
    "df.info()"
   ]
  },
  {
   "cell_type": "code",
   "execution_count": 4,
   "metadata": {},
   "outputs": [
    {
     "data": {
      "text/html": [
       "<div>\n",
       "<style scoped>\n",
       "    .dataframe tbody tr th:only-of-type {\n",
       "        vertical-align: middle;\n",
       "    }\n",
       "\n",
       "    .dataframe tbody tr th {\n",
       "        vertical-align: top;\n",
       "    }\n",
       "\n",
       "    .dataframe thead th {\n",
       "        text-align: right;\n",
       "    }\n",
       "</style>\n",
       "<table border=\"1\" class=\"dataframe\">\n",
       "  <thead>\n",
       "    <tr style=\"text-align: right;\">\n",
       "      <th></th>\n",
       "      <th>reviewerID</th>\n",
       "      <th>asin</th>\n",
       "      <th>reviewerName</th>\n",
       "      <th>helpful</th>\n",
       "      <th>reviewText</th>\n",
       "      <th>overall</th>\n",
       "      <th>summary</th>\n",
       "      <th>unixReviewTime</th>\n",
       "      <th>reviewTime</th>\n",
       "    </tr>\n",
       "  </thead>\n",
       "  <tbody>\n",
       "    <tr>\n",
       "      <th>0</th>\n",
       "      <td>APC67SS58SV87</td>\n",
       "      <td>B001GCQ3KM</td>\n",
       "      <td>bloodshot</td>\n",
       "      <td>[0, 0]</td>\n",
       "      <td>I narrowed my choices down to this and an iPod...</td>\n",
       "      <td>5</td>\n",
       "      <td>Great mp3 player.</td>\n",
       "      <td>1239840000</td>\n",
       "      <td>04 16, 2009</td>\n",
       "    </tr>\n",
       "    <tr>\n",
       "      <th>1</th>\n",
       "      <td>A34G4GSIYY4JJ3</td>\n",
       "      <td>B00002EQCW</td>\n",
       "      <td>Jay Citizen \"JCitizen\"</td>\n",
       "      <td>[0, 0]</td>\n",
       "      <td>These have been staple for years. You can't ge...</td>\n",
       "      <td>5</td>\n",
       "      <td>A tried at true solution...</td>\n",
       "      <td>1359417600</td>\n",
       "      <td>01 29, 2013</td>\n",
       "    </tr>\n",
       "    <tr>\n",
       "      <th>2</th>\n",
       "      <td>A2FBQCIU4KSYPZ</td>\n",
       "      <td>B000A6PPOK</td>\n",
       "      <td>Meniscus</td>\n",
       "      <td>[0, 0]</td>\n",
       "      <td>The ergonomic styling works well, after only a...</td>\n",
       "      <td>3</td>\n",
       "      <td>Good but could be better.</td>\n",
       "      <td>1192406400</td>\n",
       "      <td>10 15, 2007</td>\n",
       "    </tr>\n",
       "    <tr>\n",
       "      <th>3</th>\n",
       "      <td>A2LB20XRW6SY0W</td>\n",
       "      <td>B008EWNVI4</td>\n",
       "      <td>Jackson65 \"Jack's Woodworking\"</td>\n",
       "      <td>[1, 2]</td>\n",
       "      <td>We have a Panasonic Vierra that is a great TV ...</td>\n",
       "      <td>5</td>\n",
       "      <td>Great TV sound.</td>\n",
       "      <td>1380499200</td>\n",
       "      <td>09 30, 2013</td>\n",
       "    </tr>\n",
       "    <tr>\n",
       "      <th>4</th>\n",
       "      <td>A9C5WOVLLNC43</td>\n",
       "      <td>B003BEDQR6</td>\n",
       "      <td>T. C. Fowler</td>\n",
       "      <td>[0, 0]</td>\n",
       "      <td>When I bought this I had high expectations but...</td>\n",
       "      <td>3</td>\n",
       "      <td>It's an OK system</td>\n",
       "      <td>1300060800</td>\n",
       "      <td>03 14, 2011</td>\n",
       "    </tr>\n",
       "  </tbody>\n",
       "</table>\n",
       "</div>"
      ],
      "text/plain": [
       "       reviewerID        asin                    reviewerName helpful  \\\n",
       "0   APC67SS58SV87  B001GCQ3KM                       bloodshot  [0, 0]   \n",
       "1  A34G4GSIYY4JJ3  B00002EQCW          Jay Citizen \"JCitizen\"  [0, 0]   \n",
       "2  A2FBQCIU4KSYPZ  B000A6PPOK                        Meniscus  [0, 0]   \n",
       "3  A2LB20XRW6SY0W  B008EWNVI4  Jackson65 \"Jack's Woodworking\"  [1, 2]   \n",
       "4   A9C5WOVLLNC43  B003BEDQR6                    T. C. Fowler  [0, 0]   \n",
       "\n",
       "                                          reviewText  overall  \\\n",
       "0  I narrowed my choices down to this and an iPod...        5   \n",
       "1  These have been staple for years. You can't ge...        5   \n",
       "2  The ergonomic styling works well, after only a...        3   \n",
       "3  We have a Panasonic Vierra that is a great TV ...        5   \n",
       "4  When I bought this I had high expectations but...        3   \n",
       "\n",
       "                       summary  unixReviewTime   reviewTime  \n",
       "0            Great mp3 player.      1239840000  04 16, 2009  \n",
       "1  A tried at true solution...      1359417600  01 29, 2013  \n",
       "2    Good but could be better.      1192406400  10 15, 2007  \n",
       "3              Great TV sound.      1380499200  09 30, 2013  \n",
       "4            It's an OK system      1300060800  03 14, 2011  "
      ]
     },
     "execution_count": 4,
     "metadata": {},
     "output_type": "execute_result"
    }
   ],
   "source": [
    "df.head()"
   ]
  },
  {
   "cell_type": "code",
   "execution_count": 5,
   "metadata": {},
   "outputs": [],
   "source": [
    "df.drop([\"reviewerID\",\"asin\",\"reviewerName\",\"helpful\",\"summary\",\"unixReviewTime\",\"reviewTime\"],axis=1,inplace=True)"
   ]
  },
  {
   "cell_type": "code",
   "execution_count": 6,
   "metadata": {},
   "outputs": [
    {
     "data": {
      "text/html": [
       "<div>\n",
       "<style scoped>\n",
       "    .dataframe tbody tr th:only-of-type {\n",
       "        vertical-align: middle;\n",
       "    }\n",
       "\n",
       "    .dataframe tbody tr th {\n",
       "        vertical-align: top;\n",
       "    }\n",
       "\n",
       "    .dataframe thead th {\n",
       "        text-align: right;\n",
       "    }\n",
       "</style>\n",
       "<table border=\"1\" class=\"dataframe\">\n",
       "  <thead>\n",
       "    <tr style=\"text-align: right;\">\n",
       "      <th></th>\n",
       "      <th>reviewText</th>\n",
       "      <th>overall</th>\n",
       "    </tr>\n",
       "  </thead>\n",
       "  <tbody>\n",
       "    <tr>\n",
       "      <th>0</th>\n",
       "      <td>I narrowed my choices down to this and an iPod...</td>\n",
       "      <td>5</td>\n",
       "    </tr>\n",
       "    <tr>\n",
       "      <th>1</th>\n",
       "      <td>These have been staple for years. You can't ge...</td>\n",
       "      <td>5</td>\n",
       "    </tr>\n",
       "    <tr>\n",
       "      <th>2</th>\n",
       "      <td>The ergonomic styling works well, after only a...</td>\n",
       "      <td>3</td>\n",
       "    </tr>\n",
       "    <tr>\n",
       "      <th>3</th>\n",
       "      <td>We have a Panasonic Vierra that is a great TV ...</td>\n",
       "      <td>5</td>\n",
       "    </tr>\n",
       "    <tr>\n",
       "      <th>4</th>\n",
       "      <td>When I bought this I had high expectations but...</td>\n",
       "      <td>3</td>\n",
       "    </tr>\n",
       "  </tbody>\n",
       "</table>\n",
       "</div>"
      ],
      "text/plain": [
       "                                          reviewText  overall\n",
       "0  I narrowed my choices down to this and an iPod...        5\n",
       "1  These have been staple for years. You can't ge...        5\n",
       "2  The ergonomic styling works well, after only a...        3\n",
       "3  We have a Panasonic Vierra that is a great TV ...        5\n",
       "4  When I bought this I had high expectations but...        3"
      ]
     },
     "execution_count": 6,
     "metadata": {},
     "output_type": "execute_result"
    }
   ],
   "source": [
    "df.head()"
   ]
  },
  {
   "cell_type": "markdown",
   "metadata": {},
   "source": [
    "We will work on review's ratings so we only need reviewText and overall columns so we will drop other columns. And get rid of unnecessary weight. "
   ]
  },
  {
   "cell_type": "code",
   "execution_count": 7,
   "metadata": {},
   "outputs": [
    {
     "data": {
      "image/png": "[encoded data removed]",
      "text/plain": [
       "<Figure size 432x288 with 1 Axes>"
      ]
     },
     "metadata": {
      "needs_background": "light"
     },
     "output_type": "display_data"
    }
   ],
   "source": [
    "df.overall.value_counts().plot.bar();"
   ]
  },
  {
   "cell_type": "markdown",
   "metadata": {},
   "source": [
    "## NLP Pre-Processing\n",
    "Let's get rid of punctuation marks and whitespaces. And convert all the characters into lower case to make our words case insensitive."
   ]
  },
  {
   "cell_type": "code",
   "execution_count": 8,
   "metadata": {},
   "outputs": [],
   "source": [
    "df[\"reviewText\"] = df[\"reviewText\"].str.lower()\n",
    "df[\"reviewText\"] = df[\"reviewText\"].str.replace(\"[^\\w\\s]\",\"\")\n",
    "df[\"reviewText\"] = df[\"reviewText\"].str.replace(\"\\d+\",\"\")\n",
    "df[\"reviewText\"] = df[\"reviewText\"].str.replace(\"\\n\",\" \").replace(\"\\r\",\"\")"
   ]
  },
  {
   "cell_type": "code",
   "execution_count": 9,
   "metadata": {},
   "outputs": [],
   "source": [
    "df.loc[df[\"overall\"]==3, \"sentiment\"] = \"neutral\"\n",
    "df.loc[df[\"overall\"]<3, \"sentiment\"] = \"negative\"\n",
    "df.loc[df[\"overall\"]>3, \"sentiment\"] = \"positive\""
   ]
  },
  {
   "cell_type": "code",
   "execution_count": 10,
   "metadata": {},
   "outputs": [
    {
     "data": {
      "text/html": [
       "<div>\n",
       "<style scoped>\n",
       "    .dataframe tbody tr th:only-of-type {\n",
       "        vertical-align: middle;\n",
       "    }\n",
       "\n",
       "    .dataframe tbody tr th {\n",
       "        vertical-align: top;\n",
       "    }\n",
       "\n",
       "    .dataframe thead th {\n",
       "        text-align: right;\n",
       "    }\n",
       "</style>\n",
       "<table border=\"1\" class=\"dataframe\">\n",
       "  <thead>\n",
       "    <tr style=\"text-align: right;\">\n",
       "      <th></th>\n",
       "      <th>reviewText</th>\n",
       "      <th>overall</th>\n",
       "      <th>sentiment</th>\n",
       "    </tr>\n",
       "  </thead>\n",
       "  <tbody>\n",
       "    <tr>\n",
       "      <th>0</th>\n",
       "      <td>i narrowed my choices down to this and an ipod...</td>\n",
       "      <td>5</td>\n",
       "      <td>positive</td>\n",
       "    </tr>\n",
       "    <tr>\n",
       "      <th>1</th>\n",
       "      <td>these have been staple for years you cant get ...</td>\n",
       "      <td>5</td>\n",
       "      <td>positive</td>\n",
       "    </tr>\n",
       "    <tr>\n",
       "      <th>2</th>\n",
       "      <td>the ergonomic styling works well after only a ...</td>\n",
       "      <td>3</td>\n",
       "      <td>neutral</td>\n",
       "    </tr>\n",
       "    <tr>\n",
       "      <th>3</th>\n",
       "      <td>we have a panasonic vierra that is a great tv ...</td>\n",
       "      <td>5</td>\n",
       "      <td>positive</td>\n",
       "    </tr>\n",
       "    <tr>\n",
       "      <th>4</th>\n",
       "      <td>when i bought this i had high expectations but...</td>\n",
       "      <td>3</td>\n",
       "      <td>neutral</td>\n",
       "    </tr>\n",
       "  </tbody>\n",
       "</table>\n",
       "</div>"
      ],
      "text/plain": [
       "                                          reviewText  overall sentiment\n",
       "0  i narrowed my choices down to this and an ipod...        5  positive\n",
       "1  these have been staple for years you cant get ...        5  positive\n",
       "2  the ergonomic styling works well after only a ...        3   neutral\n",
       "3  we have a panasonic vierra that is a great tv ...        5  positive\n",
       "4  when i bought this i had high expectations but...        3   neutral"
      ]
     },
     "execution_count": 10,
     "metadata": {},
     "output_type": "execute_result"
    }
   ],
   "source": [
    "df.head()"
   ]
  },
  {
   "cell_type": "code",
   "execution_count": 11,
   "metadata": {},
   "outputs": [
    {
     "data": {
      "image/png": "[encoded data removed]",
      "text/plain": [
       "<Figure size 432x288 with 1 Axes>"
      ]
     },
     "metadata": {
      "needs_background": "light"
     },
     "output_type": "display_data"
    }
   ],
   "source": [
    "df[\"sentiment\"].value_counts().plot.bar();"
   ]
  },
  {
   "cell_type": "markdown",
   "metadata": {},
   "source": [
    "## Missing Reviews\n",
    "There are some people who didn't write any review. So we will drop those rows."
   ]
  },
  {
   "cell_type": "code",
   "execution_count": 12,
   "metadata": {},
   "outputs": [
    {
     "data": {
      "text/plain": [
       "(563063, 3)"
      ]
     },
     "execution_count": 12,
     "metadata": {},
     "output_type": "execute_result"
    }
   ],
   "source": [
    "df.shape"
   ]
  },
  {
   "cell_type": "code",
   "execution_count": 13,
   "metadata": {},
   "outputs": [],
   "source": [
    "df.dropna(how=\"any\", axis=0, inplace=True)"
   ]
  },
  {
   "cell_type": "code",
   "execution_count": 14,
   "metadata": {},
   "outputs": [
    {
     "data": {
      "text/plain": [
       "(562729, 3)"
      ]
     },
     "execution_count": 14,
     "metadata": {},
     "output_type": "execute_result"
    }
   ],
   "source": [
    "df.shape"
   ]
  },
  {
   "cell_type": "markdown",
   "metadata": {},
   "source": [
    "## Stemming\n",
    "We should take the root of the words. So we don't come across same word more than once."
   ]
  },
  {
   "cell_type": "code",
   "execution_count": 15,
   "metadata": {},
   "outputs": [],
   "source": [
    "from nltk.stem import WordNetLemmatizer\n",
    "lemmatizer=WordNetLemmatizer()\n",
    "df['lemmatize']=[[lemmatizer.lemmatize(i) for i in words] for words in df['reviewText'].values]"
   ]
  },
  {
   "cell_type": "markdown",
   "metadata": {},
   "source": [
    "## Polarity & Subjectivity"
   ]
  },
  {
   "cell_type": "code",
   "execution_count": 16,
   "metadata": {},
   "outputs": [],
   "source": [
    "from textblob import TextBlob\n",
    "df[[\"polarity\",\"subjectivity\"]]=df[\"reviewText\"].apply(lambda t:pd.Series(TextBlob(t).sentiment))"
   ]
  },
  {
   "cell_type": "markdown",
   "metadata": {},
   "source": [
    "## Tokenization"
   ]
  },
  {
   "cell_type": "code",
   "execution_count": 17,
   "metadata": {},
   "outputs": [],
   "source": [
    "from nltk.tokenize import TreebankWordTokenizer\n",
    "tokenizer=TreebankWordTokenizer()\n",
    "df['tokenized']=[tokenizer.tokenize(str(i)) for i in df['reviewText'].values]"
   ]
  },
  {
   "cell_type": "markdown",
   "metadata": {},
   "source": [
    "# Saving Results\n",
    "Because I don't wanna run these codes again(They took so much time!), I will save the dataframe and use it later."
   ]
  },
  {
   "cell_type": "code",
   "execution_count": 18,
   "metadata": {},
   "outputs": [
    {
     "data": {
      "text/html": [
       "<div>\n",
       "<style scoped>\n",
       "    .dataframe tbody tr th:only-of-type {\n",
       "        vertical-align: middle;\n",
       "    }\n",
       "\n",
       "    .dataframe tbody tr th {\n",
       "        vertical-align: top;\n",
       "    }\n",
       "\n",
       "    .dataframe thead th {\n",
       "        text-align: right;\n",
       "    }\n",
       "</style>\n",
       "<table border=\"1\" class=\"dataframe\">\n",
       "  <thead>\n",
       "    <tr style=\"text-align: right;\">\n",
       "      <th></th>\n",
       "      <th>reviewText</th>\n",
       "      <th>overall</th>\n",
       "      <th>sentiment</th>\n",
       "      <th>lemmatize</th>\n",
       "      <th>polarity</th>\n",
       "      <th>subjectivity</th>\n",
       "      <th>tokenized</th>\n",
       "    </tr>\n",
       "  </thead>\n",
       "  <tbody>\n",
       "    <tr>\n",
       "      <th>0</th>\n",
       "      <td>i narrowed my choices down to this and an ipod...</td>\n",
       "      <td>5</td>\n",
       "      <td>positive</td>\n",
       "      <td>[i,  , n, a, r, r, o, w, e, d,  , m, y,  , c, ...</td>\n",
       "      <td>0.079630</td>\n",
       "      <td>0.320370</td>\n",
       "      <td>[i, narrowed, my, choices, down, to, this, and...</td>\n",
       "    </tr>\n",
       "    <tr>\n",
       "      <th>1</th>\n",
       "      <td>these have been staple for years you cant get ...</td>\n",
       "      <td>5</td>\n",
       "      <td>positive</td>\n",
       "      <td>[t, h, e, s, e,  , h, a, v, e,  , b, e, e, n, ...</td>\n",
       "      <td>0.179636</td>\n",
       "      <td>0.289455</td>\n",
       "      <td>[these, have, been, staple, for, years, you, c...</td>\n",
       "    </tr>\n",
       "    <tr>\n",
       "      <th>2</th>\n",
       "      <td>the ergonomic styling works well after only a ...</td>\n",
       "      <td>3</td>\n",
       "      <td>neutral</td>\n",
       "      <td>[t, h, e,  , e, r, g, o, n, o, m, i, c,  , s, ...</td>\n",
       "      <td>0.099515</td>\n",
       "      <td>0.425154</td>\n",
       "      <td>[the, ergonomic, styling, works, well, after, ...</td>\n",
       "    </tr>\n",
       "    <tr>\n",
       "      <th>3</th>\n",
       "      <td>we have a panasonic vierra that is a great tv ...</td>\n",
       "      <td>5</td>\n",
       "      <td>positive</td>\n",
       "      <td>[w, e,  , h, a, v, e,  , a,  , p, a, n, a, s, ...</td>\n",
       "      <td>0.135185</td>\n",
       "      <td>0.528704</td>\n",
       "      <td>[we, have, a, panasonic, vierra, that, is, a, ...</td>\n",
       "    </tr>\n",
       "    <tr>\n",
       "      <th>4</th>\n",
       "      <td>when i bought this i had high expectations but...</td>\n",
       "      <td>3</td>\n",
       "      <td>neutral</td>\n",
       "      <td>[w, h, e, n,  , i,  , b, o, u, g, h, t,  , t, ...</td>\n",
       "      <td>0.209278</td>\n",
       "      <td>0.438778</td>\n",
       "      <td>[when, i, bought, this, i, had, high, expectat...</td>\n",
       "    </tr>\n",
       "  </tbody>\n",
       "</table>\n",
       "</div>"
      ],
      "text/plain": [
       "                                          reviewText  overall sentiment  \\\n",
       "0  i narrowed my choices down to this and an ipod...        5  positive   \n",
       "1  these have been staple for years you cant get ...        5  positive   \n",
       "2  the ergonomic styling works well after only a ...        3   neutral   \n",
       "3  we have a panasonic vierra that is a great tv ...        5  positive   \n",
       "4  when i bought this i had high expectations but...        3   neutral   \n",
       "\n",
       "                                           lemmatize  polarity  subjectivity  \\\n",
       "0  [i,  , n, a, r, r, o, w, e, d,  , m, y,  , c, ...  0.079630      0.320370   \n",
       "1  [t, h, e, s, e,  , h, a, v, e,  , b, e, e, n, ...  0.179636      0.289455   \n",
       "2  [t, h, e,  , e, r, g, o, n, o, m, i, c,  , s, ...  0.099515      0.425154   \n",
       "3  [w, e,  , h, a, v, e,  , a,  , p, a, n, a, s, ...  0.135185      0.528704   \n",
       "4  [w, h, e, n,  , i,  , b, o, u, g, h, t,  , t, ...  0.209278      0.438778   \n",
       "\n",
       "                                           tokenized  \n",
       "0  [i, narrowed, my, choices, down, to, this, and...  \n",
       "1  [these, have, been, staple, for, years, you, c...  \n",
       "2  [the, ergonomic, styling, works, well, after, ...  \n",
       "3  [we, have, a, panasonic, vierra, that, is, a, ...  \n",
       "4  [when, i, bought, this, i, had, high, expectat...  "
      ]
     },
     "execution_count": 18,
     "metadata": {},
     "output_type": "execute_result"
    }
   ],
   "source": [
    "df.head(5)"
   ]
  },
  {
   "cell_type": "code",
   "execution_count": 19,
   "metadata": {},
   "outputs": [],
   "source": [
    "df.to_csv(\"result_df.csv\")"
   ]
  },
  {
   "cell_type": "code",
   "execution_count": null,
   "metadata": {},
   "outputs": [],
   "source": []
  }
 ],
 "metadata": {
  "kernelspec": {
   "display_name": "Python 3",
   "language": "python",
   "name": "python3"
  },
  "language_info": {
   "codemirror_mode": {
    "name": "ipython",
    "version": 3
   },
   "file_extension": ".py",
   "mimetype": "text/x-python",
   "name": "python",
   "nbconvert_exporter": "python",
   "pygments_lexer": "ipython3",
   "version": "3.8.5"
  }
 },
 "nbformat": 4,
 "nbformat_minor": 4
}
